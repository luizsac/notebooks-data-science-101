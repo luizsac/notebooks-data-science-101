{
 "metadata": {
  "language_info": {
   "codemirror_mode": {
    "name": "ipython",
    "version": 3
   },
   "file_extension": ".py",
   "mimetype": "text/x-python",
   "name": "python",
   "nbconvert_exporter": "python",
   "pygments_lexer": "ipython3",
   "version": "3.8.8"
  },
  "orig_nbformat": 4,
  "kernelspec": {
   "name": "python3",
   "display_name": "Python 3.8.8 64-bit ('base': conda)"
  },
  "interpreter": {
   "hash": "8a1dc5efcdbc80be4ce3e96a600c5a7e8bdbf2570da378044fe339c19ce4fdea"
  }
 },
 "nbformat": 4,
 "nbformat_minor": 2,
 "cells": [
  {
   "source": [
    "# Gerando e selecionando dados com numpy e pandas"
   ],
   "cell_type": "markdown",
   "metadata": {}
  },
  {
   "source": [
    "### Importando bibliotecas"
   ],
   "cell_type": "markdown",
   "metadata": {}
  },
  {
   "cell_type": "code",
   "execution_count": 2,
   "metadata": {},
   "outputs": [],
   "source": [
    "import numpy as np\n",
    "import pandas as pd"
   ]
  },
  {
   "source": [
    "### Gerando dados com numpy\n",
    "\n",
    "range(x) gera um vetor unidimensional com uma sequência de números do comprimento especificado por parâmetro\n",
    "\n",
    "reshape(x, y) altera a forma do vetor de acordo com os parâmetros passados, transformando-o em uma matriz"
   ],
   "cell_type": "markdown",
   "metadata": {}
  },
  {
   "cell_type": "code",
   "execution_count": 3,
   "metadata": {},
   "outputs": [
    {
     "output_type": "execute_result",
     "data": {
      "text/plain": [
       "array([[ 0,  1,  2,  3,  4],\n",
       "       [ 5,  6,  7,  8,  9],\n",
       "       [10, 11, 12, 13, 14],\n",
       "       [15, 16, 17, 18, 19],\n",
       "       [20, 21, 22, 23, 24]])"
      ]
     },
     "metadata": {},
     "execution_count": 3
    }
   ],
   "source": [
    "dados = np.arange(25).reshape(5, 5)\n",
    "dados"
   ]
  },
  {
   "source": [
    "### Series\n",
    "É um tipo de lista indexada com funcionamento semelhante ao dicionário do Python"
   ],
   "cell_type": "markdown",
   "metadata": {}
  },
  {
   "cell_type": "code",
   "execution_count": 4,
   "metadata": {},
   "outputs": [
    {
     "output_type": "execute_result",
     "data": {
      "text/plain": [
       "0    0\n",
       "1    1\n",
       "2    2\n",
       "3    3\n",
       "4    4\n",
       "5    5\n",
       "6    6\n",
       "7    7\n",
       "dtype: int32"
      ]
     },
     "metadata": {},
     "execution_count": 4
    }
   ],
   "source": [
    "serie = pd.Series(np.arange(8))\n",
    "serie"
   ]
  },
  {
   "source": [
    "#### Personalizando os índices da Series"
   ],
   "cell_type": "markdown",
   "metadata": {}
  },
  {
   "cell_type": "code",
   "execution_count": 5,
   "metadata": {},
   "outputs": [
    {
     "output_type": "execute_result",
     "data": {
      "text/plain": [
       "linha 1    0\n",
       "linha 2    1\n",
       "linha 3    2\n",
       "linha 4    3\n",
       "linha 5    4\n",
       "linha 6    5\n",
       "linha 7    6\n",
       "linha 8    7\n",
       "dtype: int32"
      ]
     },
     "metadata": {},
     "execution_count": 5
    }
   ],
   "source": [
    "indice = ['linha 1', 'linha 2', 'linha 3', 'linha 4', 'linha 5', 'linha 6', 'linha 7', 'linha 8']\n",
    "serie = pd.Series(np.arange(8), indice)\n",
    "serie"
   ]
  },
  {
   "source": [
    "#### Acessando itens da Series através do índice"
   ],
   "cell_type": "markdown",
   "metadata": {}
  },
  {
   "cell_type": "code",
   "execution_count": 7,
   "metadata": {},
   "outputs": [
    {
     "output_type": "execute_result",
     "data": {
      "text/plain": [
       "5"
      ]
     },
     "metadata": {},
     "execution_count": 7
    }
   ],
   "source": [
    "serie['linha 6']"
   ]
  },
  {
   "source": [
    "#### Selecionando linhas usando loc[]"
   ],
   "cell_type": "markdown",
   "metadata": {}
  },
  {
   "cell_type": "code",
   "execution_count": 19,
   "metadata": {},
   "outputs": [
    {
     "output_type": "execute_result",
     "data": {
      "text/plain": [
       "linha 3    2\n",
       "linha 7    6\n",
       "dtype: int32"
      ]
     },
     "metadata": {},
     "execution_count": 19
    }
   ],
   "source": [
    "serie.loc[['linha 3', 'linha 7']]"
   ]
  },
  {
   "source": [
    "#### Fatiando Series"
   ],
   "cell_type": "markdown",
   "metadata": {}
  },
  {
   "cell_type": "code",
   "execution_count": 21,
   "metadata": {},
   "outputs": [
    {
     "output_type": "execute_result",
     "data": {
      "text/plain": [
       "linha 2    1\n",
       "linha 3    2\n",
       "linha 4    3\n",
       "linha 5    4\n",
       "linha 6    5\n",
       "dtype: int32"
      ]
     },
     "metadata": {},
     "execution_count": 21
    }
   ],
   "source": [
    "serie['linha 2':'linha 6']"
   ]
  },
  {
   "source": [
    "### DataFrame\n",
    "Funciona de forma semelhante à Series, porém, é multidimensional"
   ],
   "cell_type": "markdown",
   "metadata": {}
  },
  {
   "cell_type": "code",
   "execution_count": 8,
   "metadata": {},
   "outputs": [
    {
     "output_type": "execute_result",
     "data": {
      "text/plain": [
       "         coluna 1  coluna 2  coluna 3  coluna 4  coluna 5  coluna 6\n",
       "linha 1  0.724092  0.393717  0.376025  0.501823  0.521422  0.904597\n",
       "linha 2  0.867722  0.389803  0.597032  0.149243  0.401574  0.231401\n",
       "linha 3  0.817810  0.730759  0.689201  0.427361  0.202699  0.292197\n",
       "linha 4  0.110396  0.737570  0.529710  0.287388  0.761706  0.570092\n",
       "linha 5  0.957399  0.190062  0.051824  0.945780  0.982913  0.252446\n",
       "linha 6  0.582560  0.928845  0.644634  0.977456  0.508224  0.359728"
      ],
      "text/html": "<div>\n<style scoped>\n    .dataframe tbody tr th:only-of-type {\n        vertical-align: middle;\n    }\n\n    .dataframe tbody tr th {\n        vertical-align: top;\n    }\n\n    .dataframe thead th {\n        text-align: right;\n    }\n</style>\n<table border=\"1\" class=\"dataframe\">\n  <thead>\n    <tr style=\"text-align: right;\">\n      <th></th>\n      <th>coluna 1</th>\n      <th>coluna 2</th>\n      <th>coluna 3</th>\n      <th>coluna 4</th>\n      <th>coluna 5</th>\n      <th>coluna 6</th>\n    </tr>\n  </thead>\n  <tbody>\n    <tr>\n      <th>linha 1</th>\n      <td>0.724092</td>\n      <td>0.393717</td>\n      <td>0.376025</td>\n      <td>0.501823</td>\n      <td>0.521422</td>\n      <td>0.904597</td>\n    </tr>\n    <tr>\n      <th>linha 2</th>\n      <td>0.867722</td>\n      <td>0.389803</td>\n      <td>0.597032</td>\n      <td>0.149243</td>\n      <td>0.401574</td>\n      <td>0.231401</td>\n    </tr>\n    <tr>\n      <th>linha 3</th>\n      <td>0.817810</td>\n      <td>0.730759</td>\n      <td>0.689201</td>\n      <td>0.427361</td>\n      <td>0.202699</td>\n      <td>0.292197</td>\n    </tr>\n    <tr>\n      <th>linha 4</th>\n      <td>0.110396</td>\n      <td>0.737570</td>\n      <td>0.529710</td>\n      <td>0.287388</td>\n      <td>0.761706</td>\n      <td>0.570092</td>\n    </tr>\n    <tr>\n      <th>linha 5</th>\n      <td>0.957399</td>\n      <td>0.190062</td>\n      <td>0.051824</td>\n      <td>0.945780</td>\n      <td>0.982913</td>\n      <td>0.252446</td>\n    </tr>\n    <tr>\n      <th>linha 6</th>\n      <td>0.582560</td>\n      <td>0.928845</td>\n      <td>0.644634</td>\n      <td>0.977456</td>\n      <td>0.508224</td>\n      <td>0.359728</td>\n    </tr>\n  </tbody>\n</table>\n</div>"
     },
     "metadata": {},
     "execution_count": 8
    }
   ],
   "source": [
    "linhas = ['linha 1', 'linha 2', 'linha 3', 'linha 4', 'linha 5', 'linha 6']\n",
    "colunas = ['coluna 1', 'coluna 2', 'coluna 3', 'coluna 4', 'coluna 5', 'coluna 6']\n",
    "df = pd.DataFrame(np.random.rand(36).reshape(6, 6), index = linhas, columns = colunas)\n",
    "df"
   ]
  },
  {
   "source": [
    "#### Acessando itens do DataFrame usando at[]"
   ],
   "cell_type": "markdown",
   "metadata": {}
  },
  {
   "cell_type": "code",
   "execution_count": 12,
   "metadata": {},
   "outputs": [
    {
     "output_type": "execute_result",
     "data": {
      "text/plain": [
       "0.3937168175714817"
      ]
     },
     "metadata": {},
     "execution_count": 12
    }
   ],
   "source": [
    "df.at['linha 1', 'coluna 2']"
   ]
  },
  {
   "source": [
    "#### Selecionando linhas e colunas usando loc[]"
   ],
   "cell_type": "markdown",
   "metadata": {}
  },
  {
   "cell_type": "code",
   "execution_count": 14,
   "metadata": {},
   "outputs": [
    {
     "output_type": "execute_result",
     "data": {
      "text/plain": [
       "         coluna 2  coluna 5\n",
       "linha 2  0.389803  0.401574\n",
       "linha 5  0.190062  0.982913"
      ],
      "text/html": "<div>\n<style scoped>\n    .dataframe tbody tr th:only-of-type {\n        vertical-align: middle;\n    }\n\n    .dataframe tbody tr th {\n        vertical-align: top;\n    }\n\n    .dataframe thead th {\n        text-align: right;\n    }\n</style>\n<table border=\"1\" class=\"dataframe\">\n  <thead>\n    <tr style=\"text-align: right;\">\n      <th></th>\n      <th>coluna 2</th>\n      <th>coluna 5</th>\n    </tr>\n  </thead>\n  <tbody>\n    <tr>\n      <th>linha 2</th>\n      <td>0.389803</td>\n      <td>0.401574</td>\n    </tr>\n    <tr>\n      <th>linha 5</th>\n      <td>0.190062</td>\n      <td>0.982913</td>\n    </tr>\n  </tbody>\n</table>\n</div>"
     },
     "metadata": {},
     "execution_count": 14
    }
   ],
   "source": [
    "df.loc[['linha 2', 'linha 5'], ['coluna 2', 'coluna 5']]"
   ]
  },
  {
   "source": [
    "#### Fatiando o DataFrame usando iloc[]\n",
    "iloc[] aceita apenas inteiros, não sendo possível fatiar usando os nomes de linhas e colunas"
   ],
   "cell_type": "markdown",
   "metadata": {}
  },
  {
   "cell_type": "code",
   "execution_count": 17,
   "metadata": {},
   "outputs": [
    {
     "output_type": "execute_result",
     "data": {
      "text/plain": [
       "         coluna 2  coluna 3  coluna 4\n",
       "linha 2  0.389803  0.597032  0.149243\n",
       "linha 3  0.730759  0.689201  0.427361\n",
       "linha 4  0.737570  0.529710  0.287388"
      ],
      "text/html": "<div>\n<style scoped>\n    .dataframe tbody tr th:only-of-type {\n        vertical-align: middle;\n    }\n\n    .dataframe tbody tr th {\n        vertical-align: top;\n    }\n\n    .dataframe thead th {\n        text-align: right;\n    }\n</style>\n<table border=\"1\" class=\"dataframe\">\n  <thead>\n    <tr style=\"text-align: right;\">\n      <th></th>\n      <th>coluna 2</th>\n      <th>coluna 3</th>\n      <th>coluna 4</th>\n    </tr>\n  </thead>\n  <tbody>\n    <tr>\n      <th>linha 2</th>\n      <td>0.389803</td>\n      <td>0.597032</td>\n      <td>0.149243</td>\n    </tr>\n    <tr>\n      <th>linha 3</th>\n      <td>0.730759</td>\n      <td>0.689201</td>\n      <td>0.427361</td>\n    </tr>\n    <tr>\n      <th>linha 4</th>\n      <td>0.737570</td>\n      <td>0.529710</td>\n      <td>0.287388</td>\n    </tr>\n  </tbody>\n</table>\n</div>"
     },
     "metadata": {},
     "execution_count": 17
    }
   ],
   "source": [
    "df.iloc[1:4, 1:4]"
   ]
  }
 ]
}